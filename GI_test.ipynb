{
 "cells": [
  {
   "cell_type": "code",
   "execution_count": 47,
   "id": "4ce8043a-ead5-451b-bd15-034302356bf1",
   "metadata": {},
   "outputs": [],
   "source": [
    "import numpy as np\n",
    "import matplotlib as mpl\n",
    "import matplotlib.pyplot as plt\n",
    "import matplotlib.mlab as mlab\n",
    "import matplotlib.image as mpimg\n",
    "import matplotlib.patches as patches\n",
    "\n",
    "from matplotlib.patches import Rectangle\n",
    "\n",
    "#from PIL import Image\n",
    "\n",
    "from scipy import ndimage\n",
    "import copy"
   ]
  },
  {
   "cell_type": "code",
   "execution_count": 83,
   "id": "b402111e-5cd0-4dc9-b2bc-9b1509cb79ef",
   "metadata": {},
   "outputs": [],
   "source": [
    "bin_size = 500\n",
    "\n",
    "img_mp = np.ndarray([bin_size], dtype=np.ndarray)\n",
    "img_ob = np.ndarray([bin_size], dtype=np.ndarray)\n",
    "img_sum = np.zeros([bin_size])\n",
    "img_int = np.zeros([bin_size])"
   ]
  },
  {
   "cell_type": "code",
   "execution_count": 84,
   "id": "6c1ec38c-52b4-459b-9591-d218a947261e",
   "metadata": {},
   "outputs": [],
   "source": [
    "for i in range(bin_size):\n",
    "    img_mp[i] = np.random.randint(0,10,size=20**2).reshape(20,20)\n",
    "    img_ob[i] = copy.deepcopy(img_mp[i])\n",
    "    img_ob[i][5:-5, 5:-5] = 0\n",
    "    img_sum[i] = np.sum(img_ob[i])\n",
    "    img_int[i] = np.sum(img_mp[i])\n",
    "    \n",
    "bucket_avg = np.mean(img_sum)\n",
    "int_avg = np.mean(img_int)"
   ]
  },
  {
   "cell_type": "code",
   "execution_count": 85,
   "id": "338996bb-3940-4b13-b5a6-ed65f896354b",
   "metadata": {},
   "outputs": [
    {
     "data": {
      "text/plain": [
       "<matplotlib.image.AxesImage at 0x2b1774eeef50>"
      ]
     },
     "execution_count": 85,
     "metadata": {},
     "output_type": "execute_result"
    },
    {
     "data": {
      "image/png": "[encoded data removed]",
      "text/plain": [
       "<Figure size 432x288 with 1 Axes>"
      ]
     },
     "metadata": {
      "needs_background": "light"
     },
     "output_type": "display_data"
    }
   ],
   "source": [
    "plt.imshow(img_mp[0])"
   ]
  },
  {
   "cell_type": "code",
   "execution_count": 86,
   "id": "aeb04b59-b4ed-4f58-96d1-05f5e8507824",
   "metadata": {},
   "outputs": [
    {
     "data": {
      "text/plain": [
       "<matplotlib.image.AxesImage at 0x2b17749bc9d0>"
      ]
     },
     "execution_count": 86,
     "metadata": {},
     "output_type": "execute_result"
    },
    {
     "data": {
      "image/png": "[encoded data removed]",
      "text/plain": [
       "<Figure size 432x288 with 1 Axes>"
      ]
     },
     "metadata": {
      "needs_background": "light"
     },
     "output_type": "display_data"
    }
   ],
   "source": [
    "plt.imshow(img_ob[0])"
   ]
  },
  {
   "cell_type": "code",
   "execution_count": 87,
   "id": "b448cffd-2446-4eb5-ace8-9c19903ca777",
   "metadata": {},
   "outputs": [],
   "source": [
    "ghost = np.zeros([20,20])"
   ]
  },
  {
   "cell_type": "code",
   "execution_count": 88,
   "id": "e9c4875f-acce-4630-94da-a3493d25e945",
   "metadata": {},
   "outputs": [
    {
     "data": {
      "text/plain": [
       "<matplotlib.image.AxesImage at 0x2b1774a51490>"
      ]
     },
     "execution_count": 88,
     "metadata": {},
     "output_type": "execute_result"
    },
    {
     "data": {
      "image/png": "[encoded data removed]",
      "text/plain": [
       "<Figure size 432x288 with 1 Axes>"
      ]
     },
     "metadata": {
      "needs_background": "light"
     },
     "output_type": "display_data"
    }
   ],
   "source": [
    "# Default second order GI\n",
    "\n",
    "for i in range(ghost.shape[0]):\n",
    "    for j in range(ghost.shape[1]):\n",
    "        sum = 0\n",
    "\n",
    "        for bin in range(bin_size):\n",
    "            sum += (img_sum[bin])*img_mp[bin][i][j]\n",
    "            #print(sum)\n",
    "            #print(type(img_sum[bin]))\n",
    "            #print(type(img_mp[bin]))\n",
    "\n",
    "\n",
    "        ghost[i,j]=sum/bin_size  \n",
    "        \n",
    "plt.imshow(ghost)"
   ]
  },
  {
   "cell_type": "code",
   "execution_count": 89,
   "id": "f54b0e70-dd0a-450b-bb87-8c1c58a3db25",
   "metadata": {},
   "outputs": [
    {
     "name": "stdout",
     "output_type": "stream",
     "text": [
      "1353.278\n"
     ]
    }
   ],
   "source": [
    "print(bucket_avg)"
   ]
  },
  {
   "cell_type": "code",
   "execution_count": 90,
   "id": "b357995f-624a-4560-847d-203c5d0df679",
   "metadata": {},
   "outputs": [
    {
     "data": {
      "text/plain": [
       "<matplotlib.image.AxesImage at 0x2b1774f5b6d0>"
      ]
     },
     "execution_count": 90,
     "metadata": {},
     "output_type": "execute_result"
    },
    {
     "data": {
      "image/png": "[encoded data removed]",
      "text/plain": [
       "<Figure size 432x288 with 1 Axes>"
      ]
     },
     "metadata": {
      "needs_background": "light"
     },
     "output_type": "display_data"
    }
   ],
   "source": [
    "for i in range(ghost.shape[0]):\n",
    "    for j in range(ghost.shape[1]):\n",
    "        sum = 0\n",
    "\n",
    "        for bin in range(bin_size):\n",
    "            sum += (img_sum[bin] - bucket_avg)*img_mp[bin][i][j]\n",
    "            #print(sum)\n",
    "            #print(type(img_sum[bin]))\n",
    "            #print(type(img_mp[bin]))\n",
    "\n",
    "\n",
    "        ghost[i,j]=sum/bin_size    \n",
    "        \n",
    "plt.imshow(ghost)"
   ]
  },
  {
   "cell_type": "code",
   "execution_count": 91,
   "id": "81b62c6f-f70c-4f33-8e79-eda043f87d60",
   "metadata": {},
   "outputs": [
    {
     "data": {
      "text/plain": [
       "<matplotlib.image.AxesImage at 0x2b1774fe5890>"
      ]
     },
     "execution_count": 91,
     "metadata": {},
     "output_type": "execute_result"
    },
    {
     "data": {
      "image/png": "[encoded data removed]",
      "text/plain": [
       "<Figure size 432x288 with 1 Axes>"
      ]
     },
     "metadata": {
      "needs_background": "light"
     },
     "output_type": "display_data"
    }
   ],
   "source": [
    "# Differential GI\n",
    "\n",
    "for i in range(ghost.shape[0]):\n",
    "    for j in range(ghost.shape[1]):\n",
    "        sum = 0\n",
    "\n",
    "        for bin in range(bin_size):\n",
    "            sum += (img_sum[bin] - bucket_avg*img_int[bin]/int_avg)*img_mp[bin][i][j]\n",
    "\n",
    "        ghost[i,j]=sum/bin_size    \n",
    "        \n",
    "plt.imshow(ghost)"
   ]
  },
  {
   "cell_type": "code",
   "execution_count": 92,
   "id": "7f61131b-141a-47ed-8456-7510936b7fe4",
   "metadata": {},
   "outputs": [
    {
     "data": {
      "text/plain": [
       "<matplotlib.image.AxesImage at 0x2b1775070a90>"
      ]
     },
     "execution_count": 92,
     "metadata": {},
     "output_type": "execute_result"
    },
    {
     "data": {
      "image/png": "[encoded data removed]",
      "text/plain": [
       "<Figure size 432x288 with 1 Axes>"
      ]
     },
     "metadata": {
      "needs_background": "light"
     },
     "output_type": "display_data"
    }
   ],
   "source": [
    "# Normalized GI\n",
    "\n",
    "for i in range(ghost.shape[0]):\n",
    "    for j in range(ghost.shape[1]):\n",
    "        sum = 0\n",
    "\n",
    "        for bin in range(bin_size):\n",
    "            sum += (img_sum[bin]/img_int[bin] - bucket_avg/int_avg)*img_mp[bin][i][j]\n",
    "\n",
    "        ghost[i,j]=sum/bin_size    \n",
    "        \n",
    "plt.imshow(ghost)"
   ]
  },
  {
   "cell_type": "code",
   "execution_count": 93,
   "id": "84b0f985-fcdc-4bf3-9ebe-9d04646b6635",
   "metadata": {},
   "outputs": [
    {
     "data": {
      "text/plain": [
       "<matplotlib.image.AxesImage at 0x2b17750f9d90>"
      ]
     },
     "execution_count": 93,
     "metadata": {},
     "output_type": "execute_result"
    },
    {
     "data": {
      "image/png": "[encoded data removed]",
      "text/plain": [
       "<Figure size 432x288 with 1 Axes>"
      ]
     },
     "metadata": {
      "needs_background": "light"
     },
     "output_type": "display_data"
    }
   ],
   "source": [
    "# Logarithmic GI\n",
    "\n",
    "for i in range(ghost.shape[0]):\n",
    "    for j in range(ghost.shape[1]):\n",
    "        sum = 0\n",
    "\n",
    "        for bin in range(bin_size):\n",
    "            sum += np.log(img_sum[bin]/bucket_avg)*img_mp[bin][i][j]\n",
    "\n",
    "        ghost[i,j]=sum/bin_size    \n",
    "        \n",
    "plt.imshow(ghost)"
   ]
  },
  {
   "cell_type": "code",
   "execution_count": 94,
   "id": "473c56b8-ff70-4b1f-ad07-b6757db95ea0",
   "metadata": {},
   "outputs": [
    {
     "data": {
      "text/plain": [
       "<matplotlib.image.AxesImage at 0x2b177517cc10>"
      ]
     },
     "execution_count": 94,
     "metadata": {},
     "output_type": "execute_result"
    },
    {
     "data": {
      "image/png": "[encoded data removed]",
      "text/plain": [
       "<Figure size 432x288 with 1 Axes>"
      ]
     },
     "metadata": {
      "needs_background": "light"
     },
     "output_type": "display_data"
    }
   ],
   "source": [
    "# Exponential GI\n",
    "\n",
    "for i in range(ghost.shape[0]):\n",
    "    for j in range(ghost.shape[1]):\n",
    "        sum = 0\n",
    "\n",
    "        for bin in range(bin_size):\n",
    "            sum += 10**(img_sum[bin]/img_int[bin])*img_mp[bin][i][j]\n",
    "\n",
    "        ghost[i,j]=sum/bin_size    \n",
    "        \n",
    "plt.imshow(ghost)"
   ]
  },
  {
   "cell_type": "code",
   "execution_count": null,
   "id": "30e42b8f-398a-44e6-8d88-c838e269e353",
   "metadata": {},
   "outputs": [],
   "source": []
  },
  {
   "cell_type": "code",
   "execution_count": null,
   "id": "e5ee7650-e5eb-42f3-a866-ca861f75429c",
   "metadata": {},
   "outputs": [],
   "source": []
  },
  {
   "cell_type": "code",
   "execution_count": null,
   "id": "3324bf41-728d-4a90-b1cc-24c61958d3bc",
   "metadata": {},
   "outputs": [],
   "source": []
  }
 ],
 "metadata": {
  "kernelspec": {
   "display_name": "Qiskit",
   "language": "python",
   "name": "qiskit"
  },
  "language_info": {
   "codemirror_mode": {
    "name": "ipython",
    "version": 3
   },
   "file_extension": ".py",
   "mimetype": "text/x-python",
   "name": "python",
   "nbconvert_exporter": "python",
   "pygments_lexer": "ipython3",
   "version": "3.7.11"
  }
 },
 "nbformat": 4,
 "nbformat_minor": 5
}
